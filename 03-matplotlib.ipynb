{
 "metadata": {
  "language_info": {
   "codemirror_mode": {
    "name": "ipython",
    "version": 3
   },
   "file_extension": ".py",
   "mimetype": "text/x-python",
   "name": "python",
   "nbconvert_exporter": "python",
   "pygments_lexer": "ipython3",
   "version": "3.8.8"
  },
  "orig_nbformat": 2,
  "kernelspec": {
   "name": "python3",
   "display_name": "Python 3.8.8 64-bit ('base': conda)"
  },
  "metadata": {
   "interpreter": {
    "hash": "48b2dac2427e5c4bd2b5479f4e612135ec3351219f6a8504495dceeac711d204"
   }
  },
  "interpreter": {
   "hash": "48b2dac2427e5c4bd2b5479f4e612135ec3351219f6a8504495dceeac711d204"
  }
 },
 "nbformat": 4,
 "nbformat_minor": 2,
 "cells": [
  {
   "cell_type": "markdown",
   "source": [
    "# **Matplotlib**\n",
    "\n",
    "La librería Matplotlib es usada para realizar graficos en particular para visualizar datos."
   ],
   "metadata": {}
  },
  {
   "cell_type": "markdown",
   "source": [
    "## **Importamos la librería Matplotlib**"
   ],
   "metadata": {}
  },
  {
   "cell_type": "code",
   "execution_count": null,
   "source": [
    "import numpy as np \n",
    "import matplotlib.pyplot as plt "
   ],
   "outputs": [],
   "metadata": {}
  },
  {
   "cell_type": "code",
   "execution_count": null,
   "source": [
    "plt.plot(np.arange(0,5))\n",
    "plt.show()"
   ],
   "outputs": [],
   "metadata": {}
  },
  {
   "cell_type": "code",
   "execution_count": null,
   "source": [
    "plt.plot([1,2,3,4], [1,2,9,16], 'ro')\n",
    "plt.show()"
   ],
   "outputs": [],
   "metadata": {}
  },
  {
   "cell_type": "code",
   "execution_count": null,
   "source": [
    "plt.axis([0,5,0,20])\n",
    "plt.title('Mi primer gráfico')\n",
    "plt.plot([1,2,3,4], [1,2,9,16], 'ro')\n",
    "plt.show()"
   ],
   "outputs": [],
   "metadata": {}
  },
  {
   "cell_type": "code",
   "execution_count": null,
   "source": [
    "plt.axis([0,5,0,20])\n",
    "plt.title('Mi primer gráfico', fontsize=20, fontname = 'Times New Roman')\n",
    "plt.xlabel('Eje x', color = 'gray')\n",
    "plt.ylabel('Eje y', color = 'gray')\n",
    "plt.plot([1,2,3,4], [1,4,9,16], 'ro')\n",
    "plt.show()"
   ],
   "outputs": [],
   "metadata": {}
  },
  {
   "cell_type": "code",
   "execution_count": null,
   "source": [
    "plt.axis([0,5,0,20])\n",
    "plt.title('Mi primer grafico', fontsize = 20, fontname = 'Times New Roman')\n",
    "plt.xlabel('Eje x', color = 'gray')\n",
    "plt.ylabel('Eje y', color = 'gray')\n",
    "plt.text(0.8, 1.5,'Primero' )\n",
    "plt.text(1.8,4.5, 'Segundo')\n",
    "plt.text(2.8, 9.5, 'Tercero')\n",
    "plt.text(3.8, 16.5, 'Cuarto')\n",
    "plt.plot([1,2,3,4], [1,4,9,16], 'ro')\n",
    "plt.show()"
   ],
   "outputs": [],
   "metadata": {}
  },
  {
   "cell_type": "code",
   "execution_count": null,
   "source": [
    "plt.axis([0,5,0,20])\n",
    "plt.title('Mi primer grafico', fontsize = 20, fontname = 'Times New Roman')\n",
    "plt.xlabel('Eje x', color = 'gray')\n",
    "plt.ylabel('Eje y', color = 'gray')\n",
    "plt.text(0.8, 1.5,'Primero' )\n",
    "plt.text(1.8,4.5, 'Segundo')\n",
    "plt.text(2.8, 9.5, 'Tercero')\n",
    "plt.text(3.8, 16.5, 'Cuarto')\n",
    "plt.text(1.1,12,r'$y=x^2$',fontsize=20, fontname = 'Times New Roman', bbox={'facecolor':'green',\n",
    "'alpha':0.2})\n",
    "plt.plot([1,2,3,4], [1,4,9,16], 'ro')\n",
    "plt.show()"
   ],
   "outputs": [],
   "metadata": {}
  },
  {
   "cell_type": "code",
   "execution_count": null,
   "source": [
    "plt.axis([0,5,0,20])\n",
    "plt.title('Mi primer grafico', fontsize = 20, fontname = 'Times New Roman')\n",
    "plt.xlabel('Eje x', color = 'gray')\n",
    "plt.ylabel('Eje y', color = 'gray')\n",
    "plt.text(0.8, 1.5,'Primero' )\n",
    "plt.text(1.8,4.5, 'Segundo')\n",
    "plt.text(2.8, 9.5, 'Tercero')\n",
    "plt.text(3.8, 16.5, 'Cuarto')\n",
    "plt.text(1.1,12,r'$y=x^2$',fontsize=20, fontname = 'Times New Roman', bbox={'facecolor':'green',\n",
    "'alpha':0.2})\n",
    "plt.grid(True)\n",
    "plt.plot([1,2,3,4], [1,4,9,16], 'ro')\n",
    "plt.show()"
   ],
   "outputs": [],
   "metadata": {}
  },
  {
   "cell_type": "code",
   "execution_count": null,
   "source": [
    "x=np.linspace(0, 5, 20)\n",
    "y = np.log(x)\n",
    "plt.plot(x,y)\n",
    "plt.title('Función Logoritmo natural')\n",
    "plt.text(1, 1, r'$y = \\ln x$')"
   ],
   "outputs": [],
   "metadata": {}
  },
  {
   "cell_type": "markdown",
   "source": [
    "## **Matplotlib y NumPy**"
   ],
   "metadata": {}
  },
  {
   "cell_type": "code",
   "execution_count": null,
   "source": [
    "t = np.arange(0,2.5,0.1)\n",
    "y1 = np.sin(np.pi*t)\n",
    "y2 = np.sin(np.pi*t+np.pi/2)\n",
    "y3 = np.sin(np.pi*t-np.pi/2)\n",
    "plt.plot(t,y1, 'b*', t,y2, 'g^', t, y3, 'ys')"
   ],
   "outputs": [],
   "metadata": {}
  },
  {
   "cell_type": "code",
   "execution_count": null,
   "source": [
    "plt.plot(t, y1, 'b--', t, y2, 'g', t, y3, 'r-.')\n",
    "plt.show()"
   ],
   "outputs": [],
   "metadata": {}
  },
  {
   "cell_type": "code",
   "execution_count": null,
   "source": [],
   "outputs": [],
   "metadata": {}
  },
  {
   "cell_type": "markdown",
   "source": [
    "# **Referencias**\n",
    "\n",
    "[1]. https://es.wikipedia.org/wiki/NumPy \n",
    "\n",
    "[2]. Unpingo J. Python for Probability, Statistics and Machine Learning. Second Edition. Ed. \n",
    "Springer.\n",
    "\n",
    "[3]. Nelli F. Python Data Analytics. With Pandas, NumPy and Matplotlib. Second Edition. Ed. Apress"
   ],
   "metadata": {}
  }
 ]
}