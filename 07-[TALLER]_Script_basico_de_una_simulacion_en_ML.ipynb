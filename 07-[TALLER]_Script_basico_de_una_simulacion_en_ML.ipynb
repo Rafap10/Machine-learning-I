{
 "cells": [
  {
   "cell_type": "markdown",
   "source": [
    "<a href=\"https://colab.research.google.com/github/alfonsocude/Analitica_Datos/blob/main/07-%5BTALLER%5D_Script_basico_de_una_simulacion_en_ML.ipynb\" target=\"_parent\"><img src=\"https://colab.research.google.com/assets/colab-badge.svg\" alt=\"Open In Colab\"/></a>\n",
    "\n",
    "\n",
    "**Recuerda que una vez abierto, Da clic en \"Copiar en Drive\", de lo contrario no podras alamancenar tu progreso**\n",
    "\n",
    "Nota: no olvide ir ejecutando las celdas de código de arriba hacia abajo para que no tenga errores de importación de librerías o por falta de definición de variables."
   ],
   "metadata": {}
  },
  {
   "cell_type": "markdown",
   "source": [
    "### ¿Qué se debe considerar en una simulación de ML?"
   ],
   "metadata": {}
  },
  {
   "cell_type": "code",
   "execution_count": 1,
   "source": [
    "!wget --no-cache -O init.py -q https://raw.githubusercontent.com/UDEA-Esp-Analitica-y-Ciencia-de-Datos/EACD-04-MACHINE-LEARNING-1/master/init.py\n",
    "import init; init.init(force_download=False); "
   ],
   "outputs": [],
   "metadata": {}
  },
  {
   "cell_type": "markdown",
   "source": [
    "<font color='teal'>**Elementos a considerar**:</font>\n",
    "\n",
    "- <font color=#666666>**Comprender el problema!**:</font>\n",
    "- Carga de datos\n",
    "- Tamaño de la base de datos\n",
    "- Tipos de fuentes de información (formularios, imágenes, texto, audio, series de tiempo, etc.)\n",
    "- Preprocesemanieto, segmentación, filtrado.\n",
    "- Codificación de variables: \n",
    "    - Catergóricas\n",
    "    - Contínuas\n",
    "    - Discretas\n",
    "- Limpieza, imputación.\n",
    "- Estandarización de variables\n",
    "- Selección/extracción de características\n",
    "- Métricas de evaluación \n",
    "- Metodologías de validación: considerar tipo de problema, distribución de clases en la BD, volúmen.\n",
    "- Modelos a evaluar\n",
    "- Hiperparámetros de los modelos y de los algoritmos de entrenamiento."
   ],
   "metadata": {}
  },
  {
   "cell_type": "code",
   "execution_count": 1,
   "source": [
    "from IPython.display import Image\n",
    "import numpy as np\n",
    "import matplotlib.pyplot as plt\n",
    "from sklearn.datasets import load_breast_cancer\n",
    "%matplotlib inline"
   ],
   "outputs": [],
   "metadata": {}
  },
  {
   "cell_type": "markdown",
   "source": [
    "Para este ejercicio vamos a usar la **Breast cancer wisconsin (diagnostic) dataset** que puede ser descargada del UCI Machine Learning Repository [link](https://archive.ics.uci.edu/ml/datasets/Breast+Cancer+Wisconsin+(Diagnostic))."
   ],
   "metadata": {}
  },
  {
   "cell_type": "code",
   "execution_count": 2,
   "source": [
    "data = load_breast_cancer()"
   ],
   "outputs": [],
   "metadata": {}
  },
  {
   "cell_type": "markdown",
   "source": [
    "Tamaño de la base de datos:"
   ],
   "metadata": {}
  },
  {
   "cell_type": "code",
   "execution_count": 5,
   "source": [
    "data.data.shape, data.target.shape"
   ],
   "outputs": [
    {
     "output_type": "execute_result",
     "data": {
      "text/plain": [
       "((569, 30), (569,))"
      ]
     },
     "metadata": {},
     "execution_count": 5
    }
   ],
   "metadata": {}
  },
  {
   "cell_type": "markdown",
   "source": [
    "### Responder"
   ],
   "metadata": {}
  },
  {
   "cell_type": "code",
   "execution_count": null,
   "source": [
    "#@title Pregunta Abierta\n",
    "#@markdown  ¿Cuál es el contexto del problema?\n",
    "respuesta_1 = \"\" #@param {type:\"string\"}"
   ],
   "outputs": [],
   "metadata": {}
  },
  {
   "cell_type": "code",
   "execution_count": null,
   "source": [
    "#@title Pregunta Abierta\n",
    "#@markdown  ¿Cuál es el problema que se debe resolver desde el punto de vista de Machine Learning?\n",
    "respuesta_2 = \"\" #@param {type:\"string\"}"
   ],
   "outputs": [],
   "metadata": {}
  },
  {
   "cell_type": "markdown",
   "source": [
    "**Características**"
   ],
   "metadata": {}
  },
  {
   "cell_type": "code",
   "execution_count": null,
   "source": [
    "fig, axs = plt.subplots(6,5, figsize=(15,20))\n",
    "f = 0\n",
    "for i in range(6):\n",
    "    for j in range(5):\n",
    "        axs[i,j].hist(data.data[data.target==0,f],30,alpha=0.5, label='Class 0')\n",
    "        axs[i,j].hist(data.data[data.target==1,f],30,alpha=0.5, label='Class 1')\n",
    "        axs[i,j].set_title(data.feature_names[f])\n",
    "        axs[i,j].legend()\n",
    "        f += 1"
   ],
   "outputs": [],
   "metadata": {}
  },
  {
   "cell_type": "markdown",
   "source": [
    "### Metodología de Validación"
   ],
   "metadata": {}
  },
  {
   "cell_type": "code",
   "execution_count": 24,
   "source": [
    "from sklearn.model_selection import train_test_split\n",
    "X_train, X_test, y_train, y_test = train_test_split(data.data, data.target, test_size=0.20, random_state=42)"
   ],
   "outputs": [],
   "metadata": {}
  },
  {
   "cell_type": "markdown",
   "source": [
    "### Estandarización de variables"
   ],
   "metadata": {}
  },
  {
   "cell_type": "code",
   "execution_count": 25,
   "source": [
    "from sklearn.preprocessing import StandardScaler\n",
    "scaler = StandardScaler().fit(X_train)\n",
    "X_train = scaler.transform(X_train)\n",
    "X_test = scaler.transform(X_test)"
   ],
   "outputs": [],
   "metadata": {}
  },
  {
   "cell_type": "markdown",
   "source": [
    "### Modelo base e hiperparámetros a evaluar"
   ],
   "metadata": {}
  },
  {
   "cell_type": "code",
   "execution_count": 28,
   "source": [
    "from sklearn.neighbors import KNeighborsClassifier"
   ],
   "outputs": [],
   "metadata": {}
  },
  {
   "cell_type": "markdown",
   "source": [
    "[the k-nearest neighbors](https://scikit-learn.org/stable/modules/generated/sklearn.neighbors.KNeighborsClassifier.html)"
   ],
   "metadata": {}
  },
  {
   "cell_type": "markdown",
   "source": [
    "**¿Hiperparámetros?**"
   ],
   "metadata": {}
  },
  {
   "cell_type": "code",
   "execution_count": null,
   "source": [
    "clf = KNeighborsClassifier(n_neighbors=3)"
   ],
   "outputs": [],
   "metadata": {}
  },
  {
   "cell_type": "markdown",
   "source": [
    "### Métrica de evaluación"
   ],
   "metadata": {}
  },
  {
   "cell_type": "code",
   "execution_count": 29,
   "source": [
    "from sklearn.metrics import accuracy_score"
   ],
   "outputs": [],
   "metadata": {}
  },
  {
   "cell_type": "markdown",
   "source": [
    "### Entrenamiento y prueba"
   ],
   "metadata": {}
  },
  {
   "cell_type": "code",
   "execution_count": 32,
   "source": [
    "#Conjunto de hiperparámetros a evaluar\n",
    "grid_search = [1,3,5,7,9]\n",
    "\n",
    "#variables para almacenar los valores de las medidas de desempeño\n",
    "Train_Error = []\n",
    "Test_Error = []\n",
    "for i in grid_search:\n",
    "    #Instanciar y entrenar el mdoelo\n",
    "    clf = KNeighborsClassifier(n_neighbors=i)\n",
    "    clf.fit(X_train,y_train)\n",
    "    \n",
    "    #Estimar las medidas de desempeño\n",
    "    y_pred_train = clf.predict(X_train)\n",
    "    y_pred_test = clf.predict(X_test)\n",
    "    Train_Error.append(accuracy_score(y_train,y_pred_train))\n",
    "    Test_Error.append(accuracy_score(y_test,y_pred_test))\n",
    "\n",
    "Train_Error = np.array(Train_Error)\n",
    "Test_Error = np.array(Test_Error)"
   ],
   "outputs": [],
   "metadata": {}
  },
  {
   "cell_type": "markdown",
   "source": [
    "### Visualización de resultados"
   ],
   "metadata": {}
  },
  {
   "cell_type": "code",
   "execution_count": null,
   "source": [
    "plt.plot(grid_search,Train_Error, label='Train Accuracy')\n",
    "plt.plot(grid_search,Test_Error, label='Test Accuracy')\n",
    "plt.xlabel('Number of neighbors')\n",
    "plt.legend()\n",
    "plt.show()"
   ],
   "outputs": [],
   "metadata": {}
  },
  {
   "cell_type": "markdown",
   "source": [
    "### Responder"
   ],
   "metadata": {}
  },
  {
   "cell_type": "code",
   "execution_count": null,
   "source": [
    "#@title Pregunta Abierta\n",
    "#@markdown  ¿Cuál es el mejor valor para el hiperparámetro del modelo?\n",
    "respuesta_3 = \"\" #@param {type:\"string\"}"
   ],
   "outputs": [],
   "metadata": {}
  },
  {
   "cell_type": "code",
   "execution_count": null,
   "source": [
    "#@title Pregunta Abierta\n",
    "#@markdown  ¿Qué es un pipeline en Machine Learning?\n",
    "respuesta_4 = \"\" #@param {type:\"string\"}"
   ],
   "outputs": [],
   "metadata": {}
  }
 ],
 "metadata": {
  "kernelspec": {
   "name": "python3",
   "display_name": "Python 3.8.8 64-bit ('base': conda)"
  },
  "language_info": {
   "codemirror_mode": {
    "name": "ipython",
    "version": 3
   },
   "file_extension": ".py",
   "mimetype": "text/x-python",
   "name": "python",
   "nbconvert_exporter": "python",
   "pygments_lexer": "ipython3",
   "version": "3.8.8"
  },
  "interpreter": {
   "hash": "48b2dac2427e5c4bd2b5479f4e612135ec3351219f6a8504495dceeac711d204"
  }
 },
 "nbformat": 4,
 "nbformat_minor": 4
}